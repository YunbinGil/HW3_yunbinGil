{
 "cells": [
  {
   "cell_type": "markdown",
   "id": "d8dbaeab",
   "metadata": {},
   "source": [
    "Q5"
   ]
  },
  {
   "cell_type": "code",
   "execution_count": 25,
   "id": "92dba99b",
   "metadata": {},
   "outputs": [
    {
     "name": "stdout",
     "output_type": "stream",
     "text": [
      ">>output : \n",
      "undergrowth; the in bent it where To could I as far as one down looked And stood I long traveler, one be And both travel not could I sorry And wood, yellow a in diverged roads Two \n",
      "\n",
      "\n",
      ">>output : \n",
      "same, the about really them worn Had there passing the that for as Though wear; wanted and grassy was it Beacause clam, better the perhaps having And fair, as just as other, the took Then \n"
     ]
    }
   ],
   "source": [
    "def reverse_words(paragraph):\n",
    "    words = paragraph.split(\" \")\n",
    "    words.reverse()\n",
    "   \n",
    "    result = \"\"\n",
    "    for item in words:\n",
    "        result += item+\" \"\n",
    "\n",
    "    return result\n",
    "\n",
    "\n",
    "def main():\n",
    "    para1 = \"Two roads diverged in a yellow wood, \"\n",
    "    para1 += \"And sorry I could not travel both And be one traveler, \"\n",
    "    para1 += \"long I stood And looked down one as far as I could \"\n",
    "    para1 += \"To where it bent in the undergrowth;\"\n",
    "    para1.strip()\n",
    "    result1 = reverse_words(para1)\n",
    "    print(\">>output : \")\n",
    "    print(result1)\n",
    "  \n",
    "    print(\"\\n\")\n",
    "    \n",
    "    para2 = \"Then took the other, as just as fair, \"\n",
    "    para2 += \"And having perhaps the better clam, \"\n",
    "    para2 += \"Beacause it was grassy and wanted wear; \"\n",
    "    para2 += \"Though as for that the passing there \"\n",
    "    para2 += \"Had worn them really about the same,\"\n",
    "    para2.strip()\n",
    "    result2 = reverse_words(para2)\n",
    "    print(\">>output : \")\n",
    "    print(result2)\n",
    "    \n",
    "if __name__ == '__main__':\n",
    "    main()"
   ]
  },
  {
   "cell_type": "code",
   "execution_count": null,
   "id": "260a8cd1",
   "metadata": {},
   "outputs": [],
   "source": []
  }
 ],
 "metadata": {
  "kernelspec": {
   "display_name": "Python 3 (ipykernel)",
   "language": "python",
   "name": "python3"
  },
  "language_info": {
   "codemirror_mode": {
    "name": "ipython",
    "version": 3
   },
   "file_extension": ".py",
   "mimetype": "text/x-python",
   "name": "python",
   "nbconvert_exporter": "python",
   "pygments_lexer": "ipython3",
   "version": "3.9.12"
  }
 },
 "nbformat": 4,
 "nbformat_minor": 5
}
