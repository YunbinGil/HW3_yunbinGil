{
 "cells": [
  {
   "cell_type": "markdown",
   "id": "32dbd994",
   "metadata": {},
   "source": [
    "Q4"
   ]
  },
  {
   "cell_type": "code",
   "execution_count": 7,
   "id": "aa5bda46",
   "metadata": {},
   "outputs": [
    {
     "name": "stdout",
     "output_type": "stream",
     "text": [
      "the factorial of 0 is 1\n",
      "the factorial of 2 is 2\n",
      "the factorial of 4 is 24\n",
      "the factorial of 6 is 720\n",
      "the factorial of 8 is 40320\n",
      "the factorial of 10 is 3628800\n",
      "the factorial of 12 is 479001600\n",
      "the factorial of 14 is 87178291200\n"
     ]
    }
   ],
   "source": [
    "def factorial(n):\n",
    "    if n==0:\n",
    "        return 1;\n",
    "    else:\n",
    "        return n*factorial(n-1)\n",
    "    \n",
    "def main():\n",
    "    nums = [0, 2, 4, 6, 8, 10, 12, 14]\n",
    "    \n",
    "    for num in nums:\n",
    "        print(\"the factorial of\", num, \"is \"+str(factorial(num)))\n",
    "    \n",
    "if __name__ == '__main__':\n",
    "    main()\n",
    "    "
   ]
  },
  {
   "cell_type": "code",
   "execution_count": null,
   "id": "d1215b82",
   "metadata": {},
   "outputs": [],
   "source": []
  }
 ],
 "metadata": {
  "kernelspec": {
   "display_name": "Python 3 (ipykernel)",
   "language": "python",
   "name": "python3"
  },
  "language_info": {
   "codemirror_mode": {
    "name": "ipython",
    "version": 3
   },
   "file_extension": ".py",
   "mimetype": "text/x-python",
   "name": "python",
   "nbconvert_exporter": "python",
   "pygments_lexer": "ipython3",
   "version": "3.9.12"
  }
 },
 "nbformat": 4,
 "nbformat_minor": 5
}
